{
 "cells": [
  {
   "cell_type": "code",
   "execution_count": 1,
   "metadata": {},
   "outputs": [],
   "source": [
    "import numpy as np\n",
    "import pandas as pd\n",
    "import matplotlib.pyplot as plt\n",
    "import seaborn as sns\n",
    "%matplotlib inline\n",
    "\n",
    "from sklearn.model_selection import KFold\n",
    "from sklearn.linear_model import Lasso\n",
    "import statsmodels.api as sm\n",
    "import statsmodels.formula.api as smf"
   ]
  },
  {
   "cell_type": "code",
   "execution_count": 2,
   "metadata": {},
   "outputs": [],
   "source": [
    "def func_mae(x1,x2):\n",
    "    return np.mean(np.abs(x1-x2))\n",
    "\n",
    "def lasso_cv(X_train,y_train,alp_list,split_n,intercept_boolen,MAX_ITER=10000):\n",
    "    kf = KFold(n_splits = split_n)\n",
    "    \n",
    "    mse_ave = []\n",
    "    mae_ave = []\n",
    "    \n",
    "    for t in alp_list:\n",
    "        mse = []\n",
    "        mae = []\n",
    "        ls = Lasso(alpha = t,fit_intercept = intercept_boolen,max_iter = MAX_ITER)\n",
    "        \n",
    "        for k, (train, test) in enumerate(kf.split(X_train)):\n",
    "            ls.fit(X_train.loc[train],y_train.loc[train])\n",
    "            predictions = ls.predict(X_train.loc[test])\n",
    "            mse.append(sm.tools.eval_measures.mse(predictions,y_train.loc[test]))\n",
    "            mae.append(func_mae(predictions,y_train.loc[test]))\n",
    "            \n",
    "        mse_ave.append(np.mean(mse))\n",
    "        mae_ave.append(np.mean(mae))\n",
    "    \n",
    "    df = pd.DataFrame({'alpha':alp_list,'MSE':mse_ave,'MAE':mae_ave})\n",
    "    a_star = df.sort_values(by='MSE').reset_index().loc[0,'alpha']\n",
    "    mse_star = df.sort_values(by='MSE').reset_index().loc[0,'MSE']\n",
    "    \n",
    "    return [a_star,mse_star]"
   ]
  },
  {
   "cell_type": "code",
   "execution_count": 3,
   "metadata": {},
   "outputs": [
    {
     "data": {
      "text/html": [
       "<div>\n",
       "<style scoped>\n",
       "    .dataframe tbody tr th:only-of-type {\n",
       "        vertical-align: middle;\n",
       "    }\n",
       "\n",
       "    .dataframe tbody tr th {\n",
       "        vertical-align: top;\n",
       "    }\n",
       "\n",
       "    .dataframe thead th {\n",
       "        text-align: right;\n",
       "    }\n",
       "</style>\n",
       "<table border=\"1\" class=\"dataframe\">\n",
       "  <thead>\n",
       "    <tr style=\"text-align: right;\">\n",
       "      <th></th>\n",
       "      <th>date</th>\n",
       "      <th>cchv10</th>\n",
       "      <th>cchv22</th>\n",
       "      <th>cchv250</th>\n",
       "      <th>cchv44</th>\n",
       "      <th>cchv5</th>\n",
       "      <th>cchv66</th>\n",
       "      <th>gkhv10</th>\n",
       "      <th>gkhv22</th>\n",
       "      <th>gkhv250</th>\n",
       "      <th>...</th>\n",
       "      <th>rshv44</th>\n",
       "      <th>rshv5</th>\n",
       "      <th>rshv66</th>\n",
       "      <th>yzhv10</th>\n",
       "      <th>yzhv22</th>\n",
       "      <th>yzhv250</th>\n",
       "      <th>yzhv44</th>\n",
       "      <th>yzhv5</th>\n",
       "      <th>yzhv66</th>\n",
       "      <th>vix</th>\n",
       "    </tr>\n",
       "  </thead>\n",
       "  <tbody>\n",
       "    <tr>\n",
       "      <td>0</td>\n",
       "      <td>2015-12-01</td>\n",
       "      <td>0.259215</td>\n",
       "      <td>0.279535</td>\n",
       "      <td>0.421753</td>\n",
       "      <td>0.233623</td>\n",
       "      <td>0.358053</td>\n",
       "      <td>0.390261</td>\n",
       "      <td>0.204379</td>\n",
       "      <td>0.240595</td>\n",
       "      <td>0.373034</td>\n",
       "      <td>...</td>\n",
       "      <td>0.229824</td>\n",
       "      <td>0.244163</td>\n",
       "      <td>0.332196</td>\n",
       "      <td>0.214024</td>\n",
       "      <td>0.267942</td>\n",
       "      <td>0.433284</td>\n",
       "      <td>0.270279</td>\n",
       "      <td>0.257701</td>\n",
       "      <td>0.389017</td>\n",
       "      <td>32.826614</td>\n",
       "    </tr>\n",
       "    <tr>\n",
       "      <td>1</td>\n",
       "      <td>2015-12-02</td>\n",
       "      <td>0.366014</td>\n",
       "      <td>0.315227</td>\n",
       "      <td>0.423600</td>\n",
       "      <td>0.257679</td>\n",
       "      <td>0.538290</td>\n",
       "      <td>0.394065</td>\n",
       "      <td>0.225499</td>\n",
       "      <td>0.249751</td>\n",
       "      <td>0.373265</td>\n",
       "      <td>...</td>\n",
       "      <td>0.231295</td>\n",
       "      <td>0.259192</td>\n",
       "      <td>0.330025</td>\n",
       "      <td>0.234991</td>\n",
       "      <td>0.273084</td>\n",
       "      <td>0.433438</td>\n",
       "      <td>0.272863</td>\n",
       "      <td>0.296591</td>\n",
       "      <td>0.388105</td>\n",
       "      <td>31.359858</td>\n",
       "    </tr>\n",
       "    <tr>\n",
       "      <td>2</td>\n",
       "      <td>2015-12-03</td>\n",
       "      <td>0.360918</td>\n",
       "      <td>0.314335</td>\n",
       "      <td>0.423487</td>\n",
       "      <td>0.257439</td>\n",
       "      <td>0.537456</td>\n",
       "      <td>0.341263</td>\n",
       "      <td>0.237105</td>\n",
       "      <td>0.254178</td>\n",
       "      <td>0.373515</td>\n",
       "      <td>...</td>\n",
       "      <td>0.231586</td>\n",
       "      <td>0.276978</td>\n",
       "      <td>0.327804</td>\n",
       "      <td>0.244212</td>\n",
       "      <td>0.276789</td>\n",
       "      <td>0.433650</td>\n",
       "      <td>0.273368</td>\n",
       "      <td>0.310326</td>\n",
       "      <td>0.379251</td>\n",
       "      <td>31.862687</td>\n",
       "    </tr>\n",
       "    <tr>\n",
       "      <td>3</td>\n",
       "      <td>2015-12-04</td>\n",
       "      <td>0.383709</td>\n",
       "      <td>0.298086</td>\n",
       "      <td>0.423778</td>\n",
       "      <td>0.265814</td>\n",
       "      <td>0.418484</td>\n",
       "      <td>0.312630</td>\n",
       "      <td>0.239585</td>\n",
       "      <td>0.250902</td>\n",
       "      <td>0.373581</td>\n",
       "      <td>...</td>\n",
       "      <td>0.230796</td>\n",
       "      <td>0.251610</td>\n",
       "      <td>0.306779</td>\n",
       "      <td>0.248477</td>\n",
       "      <td>0.274844</td>\n",
       "      <td>0.433757</td>\n",
       "      <td>0.274230</td>\n",
       "      <td>0.288362</td>\n",
       "      <td>0.350372</td>\n",
       "      <td>32.419264</td>\n",
       "    </tr>\n",
       "    <tr>\n",
       "      <td>4</td>\n",
       "      <td>2015-12-07</td>\n",
       "      <td>0.383769</td>\n",
       "      <td>0.280394</td>\n",
       "      <td>0.423455</td>\n",
       "      <td>0.260403</td>\n",
       "      <td>0.419736</td>\n",
       "      <td>0.311930</td>\n",
       "      <td>0.237847</td>\n",
       "      <td>0.222077</td>\n",
       "      <td>0.373553</td>\n",
       "      <td>...</td>\n",
       "      <td>0.230363</td>\n",
       "      <td>0.202105</td>\n",
       "      <td>0.286753</td>\n",
       "      <td>0.247135</td>\n",
       "      <td>0.246933</td>\n",
       "      <td>0.433665</td>\n",
       "      <td>0.273243</td>\n",
       "      <td>0.252466</td>\n",
       "      <td>0.334571</td>\n",
       "      <td>32.171463</td>\n",
       "    </tr>\n",
       "  </tbody>\n",
       "</table>\n",
       "<p>5 rows × 38 columns</p>\n",
       "</div>"
      ],
      "text/plain": [
       "        date    cchv10    cchv22   cchv250    cchv44     cchv5    cchv66  \\\n",
       "0 2015-12-01  0.259215  0.279535  0.421753  0.233623  0.358053  0.390261   \n",
       "1 2015-12-02  0.366014  0.315227  0.423600  0.257679  0.538290  0.394065   \n",
       "2 2015-12-03  0.360918  0.314335  0.423487  0.257439  0.537456  0.341263   \n",
       "3 2015-12-04  0.383709  0.298086  0.423778  0.265814  0.418484  0.312630   \n",
       "4 2015-12-07  0.383769  0.280394  0.423455  0.260403  0.419736  0.311930   \n",
       "\n",
       "     gkhv10    gkhv22   gkhv250  ...    rshv44     rshv5    rshv66    yzhv10  \\\n",
       "0  0.204379  0.240595  0.373034  ...  0.229824  0.244163  0.332196  0.214024   \n",
       "1  0.225499  0.249751  0.373265  ...  0.231295  0.259192  0.330025  0.234991   \n",
       "2  0.237105  0.254178  0.373515  ...  0.231586  0.276978  0.327804  0.244212   \n",
       "3  0.239585  0.250902  0.373581  ...  0.230796  0.251610  0.306779  0.248477   \n",
       "4  0.237847  0.222077  0.373553  ...  0.230363  0.202105  0.286753  0.247135   \n",
       "\n",
       "     yzhv22   yzhv250    yzhv44     yzhv5    yzhv66        vix  \n",
       "0  0.267942  0.433284  0.270279  0.257701  0.389017  32.826614  \n",
       "1  0.273084  0.433438  0.272863  0.296591  0.388105  31.359858  \n",
       "2  0.276789  0.433650  0.273368  0.310326  0.379251  31.862687  \n",
       "3  0.274844  0.433757  0.274230  0.288362  0.350372  32.419264  \n",
       "4  0.246933  0.433665  0.273243  0.252466  0.334571  32.171463  \n",
       "\n",
       "[5 rows x 38 columns]"
      ]
     },
     "execution_count": 3,
     "metadata": {},
     "output_type": "execute_result"
    }
   ],
   "source": [
    "df = pd.read_pickle('regr_df_new.pkl')\n",
    "del df['iv']\n",
    "df2 = pd.read_csv('SSE510050VIX(1).csv',index_col=0)\n",
    "df2['date'] = df2['tradedate'].apply(pd.to_datetime)\n",
    "df2 = df2[['date','vix']]\n",
    "df3 = pd.merge(left=df,right=df2,how='inner',on='date')\n",
    "df3.head()"
   ]
  },
  {
   "cell_type": "code",
   "execution_count": 4,
   "metadata": {},
   "outputs": [],
   "source": [
    "X=df3.iloc[:,1:37]\n",
    "y=df3.iloc[:,37]\n",
    "length = int(len(y)*0.3)"
   ]
  },
  {
   "cell_type": "code",
   "execution_count": 5,
   "metadata": {},
   "outputs": [
    {
     "data": {
      "text/html": [
       "<div>\n",
       "<style scoped>\n",
       "    .dataframe tbody tr th:only-of-type {\n",
       "        vertical-align: middle;\n",
       "    }\n",
       "\n",
       "    .dataframe tbody tr th {\n",
       "        vertical-align: top;\n",
       "    }\n",
       "\n",
       "    .dataframe thead th {\n",
       "        text-align: right;\n",
       "    }\n",
       "</style>\n",
       "<table border=\"1\" class=\"dataframe\">\n",
       "  <thead>\n",
       "    <tr style=\"text-align: right;\">\n",
       "      <th></th>\n",
       "      <th>cchv10</th>\n",
       "      <th>cchv22</th>\n",
       "      <th>cchv250</th>\n",
       "      <th>cchv44</th>\n",
       "      <th>cchv5</th>\n",
       "      <th>cchv66</th>\n",
       "      <th>gkhv10</th>\n",
       "      <th>gkhv22</th>\n",
       "      <th>gkhv250</th>\n",
       "      <th>gkhv44</th>\n",
       "      <th>...</th>\n",
       "      <th>rshv250</th>\n",
       "      <th>rshv44</th>\n",
       "      <th>rshv5</th>\n",
       "      <th>rshv66</th>\n",
       "      <th>yzhv10</th>\n",
       "      <th>yzhv22</th>\n",
       "      <th>yzhv250</th>\n",
       "      <th>yzhv44</th>\n",
       "      <th>yzhv5</th>\n",
       "      <th>yzhv66</th>\n",
       "    </tr>\n",
       "  </thead>\n",
       "  <tbody>\n",
       "    <tr>\n",
       "      <td>0</td>\n",
       "      <td>0.259215</td>\n",
       "      <td>0.279535</td>\n",
       "      <td>0.421753</td>\n",
       "      <td>0.233623</td>\n",
       "      <td>0.358053</td>\n",
       "      <td>0.390261</td>\n",
       "      <td>0.204379</td>\n",
       "      <td>0.240595</td>\n",
       "      <td>0.373034</td>\n",
       "      <td>0.219368</td>\n",
       "      <td>...</td>\n",
       "      <td>0.377166</td>\n",
       "      <td>0.229824</td>\n",
       "      <td>0.244163</td>\n",
       "      <td>0.332196</td>\n",
       "      <td>0.214024</td>\n",
       "      <td>0.267942</td>\n",
       "      <td>0.433284</td>\n",
       "      <td>0.270279</td>\n",
       "      <td>0.257701</td>\n",
       "      <td>0.389017</td>\n",
       "    </tr>\n",
       "    <tr>\n",
       "      <td>1</td>\n",
       "      <td>0.366014</td>\n",
       "      <td>0.315227</td>\n",
       "      <td>0.423600</td>\n",
       "      <td>0.257679</td>\n",
       "      <td>0.538290</td>\n",
       "      <td>0.394065</td>\n",
       "      <td>0.225499</td>\n",
       "      <td>0.249751</td>\n",
       "      <td>0.373265</td>\n",
       "      <td>0.224471</td>\n",
       "      <td>...</td>\n",
       "      <td>0.377064</td>\n",
       "      <td>0.231295</td>\n",
       "      <td>0.259192</td>\n",
       "      <td>0.330025</td>\n",
       "      <td>0.234991</td>\n",
       "      <td>0.273084</td>\n",
       "      <td>0.433438</td>\n",
       "      <td>0.272863</td>\n",
       "      <td>0.296591</td>\n",
       "      <td>0.388105</td>\n",
       "    </tr>\n",
       "    <tr>\n",
       "      <td>2</td>\n",
       "      <td>0.360918</td>\n",
       "      <td>0.314335</td>\n",
       "      <td>0.423487</td>\n",
       "      <td>0.257439</td>\n",
       "      <td>0.537456</td>\n",
       "      <td>0.341263</td>\n",
       "      <td>0.237105</td>\n",
       "      <td>0.254178</td>\n",
       "      <td>0.373515</td>\n",
       "      <td>0.225533</td>\n",
       "      <td>...</td>\n",
       "      <td>0.377320</td>\n",
       "      <td>0.231586</td>\n",
       "      <td>0.276978</td>\n",
       "      <td>0.327804</td>\n",
       "      <td>0.244212</td>\n",
       "      <td>0.276789</td>\n",
       "      <td>0.433650</td>\n",
       "      <td>0.273368</td>\n",
       "      <td>0.310326</td>\n",
       "      <td>0.379251</td>\n",
       "    </tr>\n",
       "    <tr>\n",
       "      <td>3</td>\n",
       "      <td>0.383709</td>\n",
       "      <td>0.298086</td>\n",
       "      <td>0.423778</td>\n",
       "      <td>0.265814</td>\n",
       "      <td>0.418484</td>\n",
       "      <td>0.312630</td>\n",
       "      <td>0.239585</td>\n",
       "      <td>0.250902</td>\n",
       "      <td>0.373581</td>\n",
       "      <td>0.225541</td>\n",
       "      <td>...</td>\n",
       "      <td>0.377394</td>\n",
       "      <td>0.230796</td>\n",
       "      <td>0.251610</td>\n",
       "      <td>0.306779</td>\n",
       "      <td>0.248477</td>\n",
       "      <td>0.274844</td>\n",
       "      <td>0.433757</td>\n",
       "      <td>0.274230</td>\n",
       "      <td>0.288362</td>\n",
       "      <td>0.350372</td>\n",
       "    </tr>\n",
       "    <tr>\n",
       "      <td>4</td>\n",
       "      <td>0.383769</td>\n",
       "      <td>0.280394</td>\n",
       "      <td>0.423455</td>\n",
       "      <td>0.260403</td>\n",
       "      <td>0.419736</td>\n",
       "      <td>0.311930</td>\n",
       "      <td>0.237847</td>\n",
       "      <td>0.222077</td>\n",
       "      <td>0.373553</td>\n",
       "      <td>0.225019</td>\n",
       "      <td>...</td>\n",
       "      <td>0.377377</td>\n",
       "      <td>0.230363</td>\n",
       "      <td>0.202105</td>\n",
       "      <td>0.286753</td>\n",
       "      <td>0.247135</td>\n",
       "      <td>0.246933</td>\n",
       "      <td>0.433665</td>\n",
       "      <td>0.273243</td>\n",
       "      <td>0.252466</td>\n",
       "      <td>0.334571</td>\n",
       "    </tr>\n",
       "  </tbody>\n",
       "</table>\n",
       "<p>5 rows × 36 columns</p>\n",
       "</div>"
      ],
      "text/plain": [
       "     cchv10    cchv22   cchv250    cchv44     cchv5    cchv66    gkhv10  \\\n",
       "0  0.259215  0.279535  0.421753  0.233623  0.358053  0.390261  0.204379   \n",
       "1  0.366014  0.315227  0.423600  0.257679  0.538290  0.394065  0.225499   \n",
       "2  0.360918  0.314335  0.423487  0.257439  0.537456  0.341263  0.237105   \n",
       "3  0.383709  0.298086  0.423778  0.265814  0.418484  0.312630  0.239585   \n",
       "4  0.383769  0.280394  0.423455  0.260403  0.419736  0.311930  0.237847   \n",
       "\n",
       "     gkhv22   gkhv250    gkhv44  ...   rshv250    rshv44     rshv5    rshv66  \\\n",
       "0  0.240595  0.373034  0.219368  ...  0.377166  0.229824  0.244163  0.332196   \n",
       "1  0.249751  0.373265  0.224471  ...  0.377064  0.231295  0.259192  0.330025   \n",
       "2  0.254178  0.373515  0.225533  ...  0.377320  0.231586  0.276978  0.327804   \n",
       "3  0.250902  0.373581  0.225541  ...  0.377394  0.230796  0.251610  0.306779   \n",
       "4  0.222077  0.373553  0.225019  ...  0.377377  0.230363  0.202105  0.286753   \n",
       "\n",
       "     yzhv10    yzhv22   yzhv250    yzhv44     yzhv5    yzhv66  \n",
       "0  0.214024  0.267942  0.433284  0.270279  0.257701  0.389017  \n",
       "1  0.234991  0.273084  0.433438  0.272863  0.296591  0.388105  \n",
       "2  0.244212  0.276789  0.433650  0.273368  0.310326  0.379251  \n",
       "3  0.248477  0.274844  0.433757  0.274230  0.288362  0.350372  \n",
       "4  0.247135  0.246933  0.433665  0.273243  0.252466  0.334571  \n",
       "\n",
       "[5 rows x 36 columns]"
      ]
     },
     "execution_count": 5,
     "metadata": {},
     "output_type": "execute_result"
    }
   ],
   "source": [
    "X.head()"
   ]
  },
  {
   "cell_type": "code",
   "execution_count": 6,
   "metadata": {},
   "outputs": [
    {
     "data": {
      "text/plain": [
       "0    32.826614\n",
       "1    31.359858\n",
       "2    31.862687\n",
       "3    32.419264\n",
       "4    32.171463\n",
       "Name: vix, dtype: float64"
      ]
     },
     "execution_count": 6,
     "metadata": {},
     "output_type": "execute_result"
    }
   ],
   "source": [
    "y.head()"
   ]
  },
  {
   "cell_type": "markdown",
   "metadata": {},
   "source": [
    "# Rolling"
   ]
  },
  {
   "cell_type": "code",
   "execution_count": 7,
   "metadata": {},
   "outputs": [],
   "source": [
    "predict_values = []\n",
    "true_values = []\n",
    "alp_star = []\n",
    "\n",
    "for i in range(0,length):\n",
    "    alp_start = 0.006\n",
    "    alp_stop =  0.011\n",
    "    alp = np.linspace(start=alp_start,stop=alp_stop,num=11)\n",
    "    alp = [round(i,4) for i in alp]\n",
    "    \n",
    "    X_train = X.iloc[i:len(y)-length+i,:].reset_index(drop=True)\n",
    "    y_train = y.iloc[i:len(y)-length+i].reset_index(drop=True)\n",
    "    a = lasso_cv(X_train,y_train,alp,10,False,10000)[0]\n",
    "    \n",
    "    while(a==alp_stop):\n",
    "        alp_start += 0.005\n",
    "        alp_stop += 0.005\n",
    "        alp = np.linspace(start=alp_start,stop=alp_stop,num=11)\n",
    "        alp = [round(i,4) for i in alp]\n",
    "        a = lasso_cv(X_train,y_train,alp,10,False,10000)[0]\n",
    "    \n",
    "    ls = Lasso(alpha = a,fit_intercept = False,max_iter = 10000)\n",
    "    ls.fit(X_train,y_train)\n",
    "    prediction = ls.predict(X.iloc[len(y)-length+i:len(y)-length+i+1])[0]\n",
    "    true_values.append(y[len(y)-length+i])\n",
    "    predict_values.append(prediction)\n",
    "    alp_star.append(a)"
   ]
  },
  {
   "cell_type": "code",
   "execution_count": 8,
   "metadata": {},
   "outputs": [
    {
     "data": {
      "text/plain": [
       "<matplotlib.legend.Legend at 0x264a3334788>"
      ]
     },
     "execution_count": 8,
     "metadata": {},
     "output_type": "execute_result"
    },
    {
     "data": {
      "image/png": "[encoded data removed]",
      "text/plain": [
       "<Figure size 432x288 with 1 Axes>"
      ]
     },
     "metadata": {
      "needs_background": "light"
     },
     "output_type": "display_data"
    }
   ],
   "source": [
    "sns.lineplot(np.arange(len(predict_values)),true_values,label='true')\n",
    "sns.lineplot(np.arange(len(predict_values)),predict_values,label='predict')\n",
    "plt.legend()"
   ]
  },
  {
   "cell_type": "code",
   "execution_count": 19,
   "metadata": {},
   "outputs": [],
   "source": [
    "test_date=df3.loc[len(X)-length:,'date']"
   ]
  },
  {
   "cell_type": "markdown",
   "metadata": {},
   "source": [
    "# Static"
   ]
  },
  {
   "cell_type": "code",
   "execution_count": 9,
   "metadata": {},
   "outputs": [],
   "source": [
    "X_train=X.iloc[0:len(X)-length,:]\n",
    "y_train=y[0:len(X)-length]\n",
    "X_test=X.iloc[len(X)-length:,:].reset_index(drop=True)\n",
    "y_test=y[len(X)-length:].reset_index(drop=True)"
   ]
  },
  {
   "cell_type": "code",
   "execution_count": 10,
   "metadata": {},
   "outputs": [],
   "source": [
    "def func_mae(x1,x2):\n",
    "    return np.mean(np.abs(x1-x2))\n",
    "\n",
    "\n",
    "kf = KFold(n_splits=10)\n",
    "alp = np.linspace(start=0.006,stop=0.02,num=40)\n",
    "\n",
    "mse_ave = []\n",
    "mae_ave = []\n",
    "\n",
    "for t in alp:\n",
    "    mse = []\n",
    "    mae = []\n",
    "    ls = Lasso(alpha=t,fit_intercept=False,max_iter=10000)\n",
    "    for k, (train, test) in enumerate(kf.split(X_train)):\n",
    "        ls.fit(X_train.loc[train],y_train.loc[train])\n",
    "        predictions = ls.predict(X_train.loc[test])\n",
    "        mse.append(sm.tools.eval_measures.mse(predictions,y_train.loc[test]))\n",
    "        mae.append(func_mae(predictions,y_train.loc[test]))\n",
    "    mse_ave.append(np.mean(mse))\n",
    "    mae_ave.append(np.mean(mae))"
   ]
  },
  {
   "cell_type": "code",
   "execution_count": 11,
   "metadata": {},
   "outputs": [
    {
     "data": {
      "text/plain": [
       "<matplotlib.axes._subplots.AxesSubplot at 0x264a96f0688>"
      ]
     },
     "execution_count": 11,
     "metadata": {},
     "output_type": "execute_result"
    },
    {
     "data": {
      "image/png": "[encoded data removed]",
      "text/plain": [
       "<Figure size 432x288 with 1 Axes>"
      ]
     },
     "metadata": {
      "needs_background": "light"
     },
     "output_type": "display_data"
    }
   ],
   "source": [
    "sns.scatterplot(alp,mse_ave)"
   ]
  },
  {
   "cell_type": "code",
   "execution_count": 12,
   "metadata": {},
   "outputs": [
    {
     "data": {
      "text/plain": [
       "0.008153846153846154"
      ]
     },
     "execution_count": 12,
     "metadata": {},
     "output_type": "execute_result"
    }
   ],
   "source": [
    "a_star=pd.DataFrame({'alpha':alp,'mse':mse_ave}).sort_values(by='mse').reset_index().iloc[0,1]\n",
    "a_star"
   ]
  },
  {
   "cell_type": "code",
   "execution_count": 13,
   "metadata": {},
   "outputs": [
    {
     "data": {
      "text/html": [
       "<div>\n",
       "<style scoped>\n",
       "    .dataframe tbody tr th:only-of-type {\n",
       "        vertical-align: middle;\n",
       "    }\n",
       "\n",
       "    .dataframe tbody tr th {\n",
       "        vertical-align: top;\n",
       "    }\n",
       "\n",
       "    .dataframe thead th {\n",
       "        text-align: right;\n",
       "    }\n",
       "</style>\n",
       "<table border=\"1\" class=\"dataframe\">\n",
       "  <thead>\n",
       "    <tr style=\"text-align: right;\">\n",
       "      <th></th>\n",
       "      <th>feature</th>\n",
       "      <th>coefficient</th>\n",
       "    </tr>\n",
       "  </thead>\n",
       "  <tbody>\n",
       "    <tr>\n",
       "      <td>0</td>\n",
       "      <td>cchv22</td>\n",
       "      <td>3.296907</td>\n",
       "    </tr>\n",
       "    <tr>\n",
       "      <td>1</td>\n",
       "      <td>cchv250</td>\n",
       "      <td>3.913722</td>\n",
       "    </tr>\n",
       "    <tr>\n",
       "      <td>2</td>\n",
       "      <td>cchv44</td>\n",
       "      <td>18.953319</td>\n",
       "    </tr>\n",
       "    <tr>\n",
       "      <td>3</td>\n",
       "      <td>cchv5</td>\n",
       "      <td>0.874950</td>\n",
       "    </tr>\n",
       "    <tr>\n",
       "      <td>4</td>\n",
       "      <td>gkhv10</td>\n",
       "      <td>19.655932</td>\n",
       "    </tr>\n",
       "    <tr>\n",
       "      <td>5</td>\n",
       "      <td>gkhv22</td>\n",
       "      <td>11.144272</td>\n",
       "    </tr>\n",
       "    <tr>\n",
       "      <td>6</td>\n",
       "      <td>gkhv44</td>\n",
       "      <td>26.261632</td>\n",
       "    </tr>\n",
       "    <tr>\n",
       "      <td>7</td>\n",
       "      <td>gkhv5</td>\n",
       "      <td>7.160772</td>\n",
       "    </tr>\n",
       "    <tr>\n",
       "      <td>8</td>\n",
       "      <td>gkyzhv5</td>\n",
       "      <td>-2.587251</td>\n",
       "    </tr>\n",
       "    <tr>\n",
       "      <td>9</td>\n",
       "      <td>gkyzhv66</td>\n",
       "      <td>21.707756</td>\n",
       "    </tr>\n",
       "    <tr>\n",
       "      <td>10</td>\n",
       "      <td>rshv66</td>\n",
       "      <td>0.462886</td>\n",
       "    </tr>\n",
       "    <tr>\n",
       "      <td>11</td>\n",
       "      <td>yzhv22</td>\n",
       "      <td>17.573455</td>\n",
       "    </tr>\n",
       "    <tr>\n",
       "      <td>12</td>\n",
       "      <td>yzhv5</td>\n",
       "      <td>6.717206</td>\n",
       "    </tr>\n",
       "    <tr>\n",
       "      <td>13</td>\n",
       "      <td>yzhv66</td>\n",
       "      <td>5.087382</td>\n",
       "    </tr>\n",
       "  </tbody>\n",
       "</table>\n",
       "</div>"
      ],
      "text/plain": [
       "     feature  coefficient\n",
       "0     cchv22     3.296907\n",
       "1    cchv250     3.913722\n",
       "2     cchv44    18.953319\n",
       "3      cchv5     0.874950\n",
       "4     gkhv10    19.655932\n",
       "5     gkhv22    11.144272\n",
       "6     gkhv44    26.261632\n",
       "7      gkhv5     7.160772\n",
       "8    gkyzhv5    -2.587251\n",
       "9   gkyzhv66    21.707756\n",
       "10    rshv66     0.462886\n",
       "11    yzhv22    17.573455\n",
       "12     yzhv5     6.717206\n",
       "13    yzhv66     5.087382"
      ]
     },
     "execution_count": 13,
     "metadata": {},
     "output_type": "execute_result"
    }
   ],
   "source": [
    "ls = Lasso(alpha=a_star,fit_intercept=False,max_iter=10000)\n",
    "ls.fit(X_train,y_train)\n",
    "coefficient_matrix=pd.DataFrame({'feature':X_train.columns,'coefficient':ls.coef_})\n",
    "coefficient_matrix[coefficient_matrix.iloc[:,1]!=0].reset_index(drop=True)"
   ]
  },
  {
   "cell_type": "code",
   "execution_count": 14,
   "metadata": {},
   "outputs": [],
   "source": [
    "y_test_predict=ls.predict(X_test)"
   ]
  },
  {
   "cell_type": "code",
   "execution_count": 15,
   "metadata": {},
   "outputs": [
    {
     "data": {
      "text/plain": [
       "<matplotlib.axes._subplots.AxesSubplot at 0x264a97c2ac8>"
      ]
     },
     "execution_count": 15,
     "metadata": {},
     "output_type": "execute_result"
    },
    {
     "data": {
      "image/png": "[encoded data removed]",
      "text/plain": [
       "<Figure size 432x288 with 1 Axes>"
      ]
     },
     "metadata": {
      "needs_background": "light"
     },
     "output_type": "display_data"
    }
   ],
   "source": [
    "sns.distplot(y_test-y_test_predict,bins=40)"
   ]
  },
  {
   "cell_type": "code",
   "execution_count": 16,
   "metadata": {},
   "outputs": [
    {
     "data": {
      "text/plain": [
       "15.910265396474948"
      ]
     },
     "execution_count": 16,
     "metadata": {},
     "output_type": "execute_result"
    }
   ],
   "source": [
    "sm.tools.eval_measures.mse(y_test,y_test_predict)"
   ]
  },
  {
   "cell_type": "code",
   "execution_count": 17,
   "metadata": {},
   "outputs": [
    {
     "data": {
      "text/plain": [
       "6.482071731137561"
      ]
     },
     "execution_count": 17,
     "metadata": {},
     "output_type": "execute_result"
    }
   ],
   "source": [
    "sm.tools.eval_measures.mse(y_train,ls.predict(X_train))"
   ]
  },
  {
   "cell_type": "code",
   "execution_count": null,
   "metadata": {},
   "outputs": [],
   "source": []
  },
  {
   "cell_type": "code",
   "execution_count": 21,
   "metadata": {},
   "outputs": [
    {
     "data": {
      "text/html": [
       "<div>\n",
       "<style scoped>\n",
       "    .dataframe tbody tr th:only-of-type {\n",
       "        vertical-align: middle;\n",
       "    }\n",
       "\n",
       "    .dataframe tbody tr th {\n",
       "        vertical-align: top;\n",
       "    }\n",
       "\n",
       "    .dataframe thead th {\n",
       "        text-align: right;\n",
       "    }\n",
       "</style>\n",
       "<table border=\"1\" class=\"dataframe\">\n",
       "  <thead>\n",
       "    <tr style=\"text-align: right;\">\n",
       "      <th></th>\n",
       "      <th>date</th>\n",
       "      <th>rolling predict</th>\n",
       "      <th>static predict</th>\n",
       "      <th>real vix</th>\n",
       "    </tr>\n",
       "  </thead>\n",
       "  <tbody>\n",
       "    <tr>\n",
       "      <td>0</td>\n",
       "      <td>2019-03-01</td>\n",
       "      <td>27.962047</td>\n",
       "      <td>27.919863</td>\n",
       "      <td>29.965378</td>\n",
       "    </tr>\n",
       "    <tr>\n",
       "      <td>1</td>\n",
       "      <td>2019-03-04</td>\n",
       "      <td>29.655264</td>\n",
       "      <td>29.635086</td>\n",
       "      <td>32.584331</td>\n",
       "    </tr>\n",
       "    <tr>\n",
       "      <td>2</td>\n",
       "      <td>2019-03-05</td>\n",
       "      <td>29.292779</td>\n",
       "      <td>29.366355</td>\n",
       "      <td>33.718041</td>\n",
       "    </tr>\n",
       "    <tr>\n",
       "      <td>3</td>\n",
       "      <td>2019-03-06</td>\n",
       "      <td>29.156175</td>\n",
       "      <td>29.193196</td>\n",
       "      <td>35.120822</td>\n",
       "    </tr>\n",
       "    <tr>\n",
       "      <td>4</td>\n",
       "      <td>2019-03-07</td>\n",
       "      <td>29.857601</td>\n",
       "      <td>29.556089</td>\n",
       "      <td>36.295277</td>\n",
       "    </tr>\n",
       "    <tr>\n",
       "      <td>...</td>\n",
       "      <td>...</td>\n",
       "      <td>...</td>\n",
       "      <td>...</td>\n",
       "      <td>...</td>\n",
       "    </tr>\n",
       "    <tr>\n",
       "      <td>323</td>\n",
       "      <td>2020-07-03</td>\n",
       "      <td>21.937558</td>\n",
       "      <td>18.710070</td>\n",
       "      <td>27.789083</td>\n",
       "    </tr>\n",
       "    <tr>\n",
       "      <td>324</td>\n",
       "      <td>2020-07-06</td>\n",
       "      <td>28.810273</td>\n",
       "      <td>22.970015</td>\n",
       "      <td>35.705403</td>\n",
       "    </tr>\n",
       "    <tr>\n",
       "      <td>325</td>\n",
       "      <td>2020-07-07</td>\n",
       "      <td>30.921841</td>\n",
       "      <td>24.366067</td>\n",
       "      <td>35.787732</td>\n",
       "    </tr>\n",
       "    <tr>\n",
       "      <td>326</td>\n",
       "      <td>2020-07-08</td>\n",
       "      <td>32.201464</td>\n",
       "      <td>25.508971</td>\n",
       "      <td>37.600200</td>\n",
       "    </tr>\n",
       "    <tr>\n",
       "      <td>327</td>\n",
       "      <td>2020-07-09</td>\n",
       "      <td>32.499841</td>\n",
       "      <td>25.803094</td>\n",
       "      <td>38.152322</td>\n",
       "    </tr>\n",
       "  </tbody>\n",
       "</table>\n",
       "<p>328 rows × 4 columns</p>\n",
       "</div>"
      ],
      "text/plain": [
       "          date  rolling predict  static predict   real vix\n",
       "0   2019-03-01        27.962047       27.919863  29.965378\n",
       "1   2019-03-04        29.655264       29.635086  32.584331\n",
       "2   2019-03-05        29.292779       29.366355  33.718041\n",
       "3   2019-03-06        29.156175       29.193196  35.120822\n",
       "4   2019-03-07        29.857601       29.556089  36.295277\n",
       "..         ...              ...             ...        ...\n",
       "323 2020-07-03        21.937558       18.710070  27.789083\n",
       "324 2020-07-06        28.810273       22.970015  35.705403\n",
       "325 2020-07-07        30.921841       24.366067  35.787732\n",
       "326 2020-07-08        32.201464       25.508971  37.600200\n",
       "327 2020-07-09        32.499841       25.803094  38.152322\n",
       "\n",
       "[328 rows x 4 columns]"
      ]
     },
     "execution_count": 21,
     "metadata": {},
     "output_type": "execute_result"
    }
   ],
   "source": [
    "results = pd.DataFrame({'date':test_date.reset_index(drop=True),'rolling predict':predict_values,\n",
    "                        'static predict':y_test_predict,'real vix':true_values})\n",
    "results"
   ]
  },
  {
   "cell_type": "code",
   "execution_count": 179,
   "metadata": {},
   "outputs": [],
   "source": [
    "results.to_csv('vix.csv')"
   ]
  },
  {
   "cell_type": "code",
   "execution_count": null,
   "metadata": {},
   "outputs": [],
   "source": []
  },
  {
   "cell_type": "code",
   "execution_count": 20,
   "metadata": {},
   "outputs": [
    {
     "name": "stderr",
     "output_type": "stream",
     "text": [
      "C:\\Users\\yangl\\Anaconda3\\lib\\site-packages\\pandas\\plotting\\_matplotlib\\converter.py:103: FutureWarning: Using an implicitly registered datetime converter for a matplotlib plotting method. The converter was registered by pandas on import. Future versions of pandas will require you to explicitly register matplotlib converters.\n",
      "\n",
      "To register the converters:\n",
      "\t>>> from pandas.plotting import register_matplotlib_converters\n",
      "\t>>> register_matplotlib_converters()\n",
      "  warnings.warn(msg, FutureWarning)\n"
     ]
    },
    {
     "data": {
      "text/plain": [
       "<matplotlib.legend.Legend at 0x264a9629808>"
      ]
     },
     "execution_count": 20,
     "metadata": {},
     "output_type": "execute_result"
    },
    {
     "data": {
      "image/png": "[encoded data removed]",
      "text/plain": [
       "<Figure size 720x432 with 1 Axes>"
      ]
     },
     "metadata": {
      "needs_background": "light"
     },
     "output_type": "display_data"
    }
   ],
   "source": [
    "plt.figure(figsize=(10,6))\n",
    "sns.lineplot(test_date,true_values,label='true')\n",
    "sns.lineplot(test_date,predict_values,label='predict by rolling')\n",
    "sns.lineplot(test_date,y_test_predict,label='predict by static model')\n",
    "plt.title('Rolling V.S. Static')\n",
    "plt.legend(loc=2)"
   ]
  }
 ],
 "metadata": {
  "kernelspec": {
   "display_name": "Python 3",
   "language": "python",
   "name": "python3"
  },
  "language_info": {
   "codemirror_mode": {
    "name": "ipython",
    "version": 3
   },
   "file_extension": ".py",
   "mimetype": "text/x-python",
   "name": "python",
   "nbconvert_exporter": "python",
   "pygments_lexer": "ipython3",
   "version": "3.7.7"
  }
 },
 "nbformat": 4,
 "nbformat_minor": 2
}
